{
 "cells": [
  {
   "cell_type": "markdown",
   "id": "6376e5c7",
   "metadata": {},
   "source": [
    "## 2.1 Data Manupulation"
   ]
  },
  {
   "cell_type": "markdown",
   "id": "9546b0dc",
   "metadata": {},
   "source": [
    "### Pytorch Extreme Basic Operations and Usage"
   ]
  },
  {
   "cell_type": "code",
   "execution_count": 3,
   "id": "9452aae9",
   "metadata": {},
   "outputs": [],
   "source": [
    "import torch\n",
    "import numpy as np"
   ]
  },
  {
   "cell_type": "markdown",
   "id": "4bb608d5",
   "metadata": {},
   "source": [
    "### Tensors"
   ]
  },
  {
   "cell_type": "markdown",
   "id": "d1cf9262",
   "metadata": {},
   "source": [
    "Creating Numpy Array"
   ]
  },
  {
   "cell_type": "code",
   "execution_count": 4,
   "id": "894b6995",
   "metadata": {},
   "outputs": [
    {
     "data": {
      "text/plain": [
       "(array([1, 2, 3, 4, 5]), numpy.ndarray)"
      ]
     },
     "execution_count": 4,
     "metadata": {},
     "output_type": "execute_result"
    }
   ],
   "source": [
    "## Making Tensors from the numpy \n",
    "list_number = [1, 2, 3, 4, 5]\n",
    "numpy_array = np.array(list_number)\n",
    "numpy_array, type(numpy_array)"
   ]
  },
  {
   "cell_type": "code",
   "execution_count": 5,
   "id": "191f9592",
   "metadata": {},
   "outputs": [
    {
     "data": {
      "text/plain": [
       "(tensor([1, 2, 3, 4, 5]), torch.Tensor)"
      ]
     },
     "execution_count": 5,
     "metadata": {},
     "output_type": "execute_result"
    }
   ],
   "source": [
    "x = torch.from_numpy(numpy_array)\n",
    "x, type(x)"
   ]
  },
  {
   "cell_type": "markdown",
   "id": "e7e078b2",
   "metadata": {},
   "source": [
    "### Using `arange` to create a numpy array:"
   ]
  },
  {
   "cell_type": "code",
   "execution_count": 6,
   "id": "b9bded6e",
   "metadata": {},
   "outputs": [
    {
     "data": {
      "text/plain": [
       "tensor([0, 1, 2, 3, 4, 5, 6, 7, 8, 9])"
      ]
     },
     "execution_count": 6,
     "metadata": {},
     "output_type": "execute_result"
    }
   ],
   "source": [
    "x = torch.arange(0, 10, 1)\n",
    "x"
   ]
  },
  {
   "cell_type": "markdown",
   "id": "9c0c91a4",
   "metadata": {},
   "source": [
    "### `reshape`"
   ]
  },
  {
   "cell_type": "code",
   "execution_count": 7,
   "id": "b598d7d7",
   "metadata": {},
   "outputs": [
    {
     "data": {
      "text/plain": [
       "(tensor([[0, 1, 2, 3, 4],\n",
       "         [5, 6, 7, 8, 9]]),\n",
       " torch.Tensor)"
      ]
     },
     "execution_count": 7,
     "metadata": {},
     "output_type": "execute_result"
    }
   ],
   "source": [
    "y = x.reshape(2, 5)\n",
    "y, type(y)"
   ]
  },
  {
   "cell_type": "markdown",
   "id": "3855cc20",
   "metadata": {},
   "source": [
    "`reshape` with `-1` to infer dimension:"
   ]
  },
  {
   "cell_type": "code",
   "execution_count": 12,
   "id": "f5c94bf4",
   "metadata": {},
   "outputs": [
    {
     "data": {
      "text/plain": [
       "(tensor([[0, 1, 2, 3, 4],\n",
       "         [5, 6, 7, 8, 9]]),\n",
       " torch.Tensor)"
      ]
     },
     "execution_count": 12,
     "metadata": {},
     "output_type": "execute_result"
    }
   ],
   "source": [
    "z = x.reshape(-1, 5)\n",
    "z, type(z)"
   ]
  },
  {
   "cell_type": "code",
   "execution_count": 11,
   "id": "14998c03",
   "metadata": {},
   "outputs": [
    {
     "data": {
      "text/plain": [
       "(tensor([[0, 1, 2, 3, 4],\n",
       "         [5, 6, 7, 8, 9]]),\n",
       " torch.Tensor)"
      ]
     },
     "execution_count": 11,
     "metadata": {},
     "output_type": "execute_result"
    }
   ],
   "source": [
    "h = x.reshape(2, -1)\n",
    "h, type(h)"
   ]
  },
  {
   "cell_type": "markdown",
   "id": "cfd04c89",
   "metadata": {},
   "source": [
    "### Initializing a tensor with zeros or ones"
   ]
  },
  {
   "cell_type": "code",
   "execution_count": 15,
   "id": "baab4ce8",
   "metadata": {},
   "outputs": [
    {
     "data": {
      "text/plain": [
       "(tensor([[0., 0., 0.],\n",
       "         [0., 0., 0.]]),\n",
       " torch.Tensor)"
      ]
     },
     "execution_count": 15,
     "metadata": {},
     "output_type": "execute_result"
    }
   ],
   "source": [
    "x= torch.zeros((2, 3))\n",
    "x, type(x)"
   ]
  },
  {
   "cell_type": "code",
   "execution_count": 16,
   "id": "b35e08d2",
   "metadata": {},
   "outputs": [
    {
     "data": {
      "text/plain": [
       "(tensor([[1., 1., 1.],\n",
       "         [1., 1., 1.]]),\n",
       " torch.Tensor)"
      ]
     },
     "execution_count": 16,
     "metadata": {},
     "output_type": "execute_result"
    }
   ],
   "source": [
    "y=torch.ones((2, 3))\n",
    "y, type(y)"
   ]
  },
  {
   "cell_type": "markdown",
   "id": "009370d0",
   "metadata": {},
   "source": [
    "### Generating a random tensor"
   ]
  },
  {
   "cell_type": "code",
   "execution_count": 29,
   "id": "487851b3",
   "metadata": {},
   "outputs": [
    {
     "data": {
      "text/plain": [
       "(tensor([[0.4963, 0.7682, 0.0885],\n",
       "         [0.1320, 0.3074, 0.6341]]),\n",
       " torch.Tensor)"
      ]
     },
     "execution_count": 29,
     "metadata": {},
     "output_type": "execute_result"
    }
   ],
   "source": [
    "torch.manual_seed(0)  # For reproducibility\n",
    "x = torch.rand((2, 3))\n",
    "x, type(x)"
   ]
  },
  {
   "cell_type": "markdown",
   "id": "1e01d718",
   "metadata": {},
   "source": [
    "### Creating tensors with specific values:"
   ]
  },
  {
   "cell_type": "code",
   "execution_count": 30,
   "id": "c554da76",
   "metadata": {},
   "outputs": [
    {
     "data": {
      "text/plain": [
       "tensor([[1, 2, 3],\n",
       "        [4, 5, 6]])"
      ]
     },
     "execution_count": 30,
     "metadata": {},
     "output_type": "execute_result"
    }
   ],
   "source": [
    "torch.tensor([[1, 2, 3], [4, 5, 6]])"
   ]
  },
  {
   "cell_type": "markdown",
   "id": "e716ee53",
   "metadata": {},
   "source": [
    "### Indexing and slicing tensors"
   ]
  },
  {
   "cell_type": "code",
   "execution_count": 40,
   "id": "b96f92cf",
   "metadata": {},
   "outputs": [
    {
     "data": {
      "text/plain": [
       "(tensor([0, 1, 2, 3, 4, 5, 6, 7, 8]), torch.Tensor)"
      ]
     },
     "execution_count": 40,
     "metadata": {},
     "output_type": "execute_result"
    }
   ],
   "source": [
    "x = torch.arange(0, 9, 1)\n",
    "x, type(x)"
   ]
  },
  {
   "cell_type": "code",
   "execution_count": 43,
   "id": "cc3e23fe",
   "metadata": {},
   "outputs": [],
   "source": [
    "x = x.reshape(3, -1)"
   ]
  },
  {
   "cell_type": "code",
   "execution_count": 44,
   "id": "ae63fb81",
   "metadata": {},
   "outputs": [
    {
     "data": {
      "text/plain": [
       "tensor([[0, 1, 2],\n",
       "        [3, 4, 5],\n",
       "        [6, 7, 8]])"
      ]
     },
     "execution_count": 44,
     "metadata": {},
     "output_type": "execute_result"
    }
   ],
   "source": [
    "x"
   ]
  },
  {
   "cell_type": "markdown",
   "id": "b7504bd4",
   "metadata": {},
   "source": [
    "### Indexing "
   ]
  },
  {
   "cell_type": "code",
   "execution_count": 45,
   "id": "2182c885",
   "metadata": {},
   "outputs": [
    {
     "data": {
      "text/plain": [
       "tensor([6, 7, 8])"
      ]
     },
     "execution_count": 45,
     "metadata": {},
     "output_type": "execute_result"
    }
   ],
   "source": [
    "x[-1]"
   ]
  },
  {
   "cell_type": "code",
   "execution_count": 46,
   "id": "962d40a9",
   "metadata": {},
   "outputs": [
    {
     "data": {
      "text/plain": [
       "tensor([[0, 1, 2],\n",
       "        [3, 4, 5]])"
      ]
     },
     "execution_count": 46,
     "metadata": {},
     "output_type": "execute_result"
    }
   ],
   "source": [
    "x[:2]"
   ]
  },
  {
   "cell_type": "markdown",
   "id": "09796bcd",
   "metadata": {},
   "source": [
    "### Writing values to specific indices"
   ]
  },
  {
   "cell_type": "code",
   "execution_count": 48,
   "id": "f1dea708",
   "metadata": {},
   "outputs": [],
   "source": [
    "x[1, 1] = 10"
   ]
  },
  {
   "cell_type": "code",
   "execution_count": 49,
   "id": "482d0740",
   "metadata": {},
   "outputs": [
    {
     "data": {
      "text/plain": [
       "tensor([[ 0,  1,  2],\n",
       "        [ 3, 10,  5],\n",
       "        [ 6,  7,  8]])"
      ]
     },
     "execution_count": 49,
     "metadata": {},
     "output_type": "execute_result"
    }
   ],
   "source": [
    "x"
   ]
  },
  {
   "cell_type": "code",
   "execution_count": 50,
   "id": "be035849",
   "metadata": {},
   "outputs": [
    {
     "data": {
      "text/plain": [
       "tensor([[ 0,  1,  2],\n",
       "        [ 3, 20,  5],\n",
       "        [ 6,  7,  8]])"
      ]
     },
     "execution_count": 50,
     "metadata": {},
     "output_type": "execute_result"
    }
   ],
   "source": [
    "x[1][1] = 20\n",
    "x"
   ]
  },
  {
   "cell_type": "markdown",
   "id": "8b946c6a",
   "metadata": {},
   "source": [
    "### Assigning a range of values "
   ]
  },
  {
   "cell_type": "code",
   "execution_count": 79,
   "id": "1cbf9748",
   "metadata": {},
   "outputs": [
    {
     "data": {
      "text/plain": [
       "tensor([[1.0000, 0.8964, 0.4556, 0.6323, 0.3489]])"
      ]
     },
     "execution_count": 79,
     "metadata": {},
     "output_type": "execute_result"
    }
   ],
   "source": [
    "#assigning the first column as all ones\n",
    "x[:, 0] = 1\n",
    "x"
   ]
  },
  {
   "cell_type": "code",
   "execution_count": 80,
   "id": "2917990d",
   "metadata": {},
   "outputs": [
    {
     "data": {
      "text/plain": [
       "tensor([[1.0000, 0.8964, 0.4556, 0.6323, 0.0000]])"
      ]
     },
     "execution_count": 80,
     "metadata": {},
     "output_type": "execute_result"
    }
   ],
   "source": [
    "#assigning the last column first 2 rows as all zeros\n",
    "x[0:2, -1] = 0\n",
    "x"
   ]
  },
  {
   "cell_type": "markdown",
   "id": "8ee6b5ab",
   "metadata": {},
   "source": [
    "### Operations on Tensors:\n",
    "In general, operations on tensors are applied element-wise. For example, if `x` and `y` are tensors, then:"
   ]
  },
  {
   "cell_type": "code",
   "execution_count": 81,
   "id": "37e847d3",
   "metadata": {},
   "outputs": [
    {
     "data": {
      "text/plain": [
       "(tensor([[0.6977, 0.8000, 0.1610, 0.2823, 0.6816]]),\n",
       " tensor([[0.9152, 0.3971, 0.8742, 0.4194, 0.5529]]))"
      ]
     },
     "execution_count": 81,
     "metadata": {},
     "output_type": "execute_result"
    }
   ],
   "source": [
    "x = torch.rand(1, 5)\n",
    "y = torch.rand(1, 5)\n",
    "x,y"
   ]
  },
  {
   "cell_type": "markdown",
   "id": "46ebcd26",
   "metadata": {},
   "source": [
    "Operations"
   ]
  },
  {
   "cell_type": "code",
   "execution_count": 82,
   "id": "b6cd7bc0",
   "metadata": {},
   "outputs": [
    {
     "data": {
      "text/plain": [
       "(tensor([[0.6385, 0.3177, 0.1408, 0.1184, 0.3769]]),\n",
       " tensor([[0.7623, 2.0146, 0.1842, 0.6730, 1.2328]]),\n",
       " tensor([[1.6129, 1.1971, 1.0352, 0.7017, 1.2345]]),\n",
       " tensor([[-0.2175,  0.4029, -0.7131, -0.1371,  0.1287]]))"
      ]
     },
     "execution_count": 82,
     "metadata": {},
     "output_type": "execute_result"
    }
   ],
   "source": [
    "x*y, x/y, x+y, x-y"
   ]
  },
  {
   "cell_type": "markdown",
   "id": "be555e19",
   "metadata": {},
   "source": [
    "### Performing Linear Algebra Operations"
   ]
  },
  {
   "cell_type": "code",
   "execution_count": 83,
   "id": "57d0265d",
   "metadata": {},
   "outputs": [
    {
     "data": {
      "text/plain": [
       "(tensor([[0, 1, 2, 3, 4],\n",
       "         [5, 6, 7, 8, 9]]),\n",
       " tensor([[10, 11, 12, 13, 14],\n",
       "         [15, 16, 17, 18, 19]]))"
      ]
     },
     "execution_count": 83,
     "metadata": {},
     "output_type": "execute_result"
    }
   ],
   "source": [
    "X = torch.arange(0, 10, 1).reshape(2, 5)\n",
    "Y = torch.arange(10, 20, 1).reshape(2, 5)\n",
    "X, Y"
   ]
  },
  {
   "cell_type": "markdown",
   "id": "5f9ba5d7",
   "metadata": {},
   "source": [
    "### `cat` operation"
   ]
  },
  {
   "cell_type": "code",
   "execution_count": 84,
   "id": "53de35fb",
   "metadata": {},
   "outputs": [
    {
     "data": {
      "text/plain": [
       "(tensor([[ 0,  1,  2,  3,  4],\n",
       "         [ 5,  6,  7,  8,  9],\n",
       "         [10, 11, 12, 13, 14],\n",
       "         [15, 16, 17, 18, 19]]),\n",
       " tensor([[ 0,  1,  2,  3,  4, 10, 11, 12, 13, 14],\n",
       "         [ 5,  6,  7,  8,  9, 15, 16, 17, 18, 19]]))"
      ]
     },
     "execution_count": 84,
     "metadata": {},
     "output_type": "execute_result"
    }
   ],
   "source": [
    "Z_dim0 = torch.cat((X, Y), dim=0)\n",
    "Z_dim1 = torch.cat((X, Y), dim=1)\n",
    "Z_dim0, Z_dim1"
   ]
  },
  {
   "cell_type": "markdown",
   "id": "17368b1a",
   "metadata": {},
   "source": [
    "Using `sum` to sum across all dimensions resulting in a scalar"
   ]
  },
  {
   "cell_type": "code",
   "execution_count": 85,
   "id": "ec3faa36",
   "metadata": {},
   "outputs": [
    {
     "data": {
      "text/plain": [
       "(tensor(190), tensor(190))"
      ]
     },
     "execution_count": 85,
     "metadata": {},
     "output_type": "execute_result"
    }
   ],
   "source": [
    "torch.sum(Z_dim0), torch.sum(Z_dim1)"
   ]
  },
  {
   "cell_type": "markdown",
   "id": "ad5e1522",
   "metadata": {},
   "source": [
    "### Broadcasting\n",
    "\n",
    "When we do broadcasting, we can add a tensor of shape `(3, 1)` to a tensor of shape `(1, 2)`. The first tensor is broadcasted across the second dimension, and the second tensor is broadcasted across the first dimension."
   ]
  },
  {
   "cell_type": "code",
   "execution_count": 61,
   "id": "de2c14cb",
   "metadata": {},
   "outputs": [
    {
     "data": {
      "text/plain": [
       "(tensor([[0],\n",
       "         [1],\n",
       "         [2]]),\n",
       " tensor([[4, 5]]))"
      ]
     },
     "execution_count": 61,
     "metadata": {},
     "output_type": "execute_result"
    }
   ],
   "source": [
    "a = torch.tensor([0,1,2]).reshape(3, 1)\n",
    "b = torch.tensor([4,5]).reshape(1, 2)\n",
    "a, b"
   ]
  },
  {
   "cell_type": "code",
   "execution_count": 62,
   "id": "aa5163e2",
   "metadata": {},
   "outputs": [
    {
     "data": {
      "text/plain": [
       "tensor([[4, 5],\n",
       "        [5, 6],\n",
       "        [6, 7]])"
      ]
     },
     "execution_count": 62,
     "metadata": {},
     "output_type": "execute_result"
    }
   ],
   "source": [
    "a+b"
   ]
  },
  {
   "cell_type": "markdown",
   "id": "bf072b3f",
   "metadata": {},
   "source": [
    "### Saving Memory\n",
    "\n",
    "When we creatre tensors and perform some operations, i.e Y= Y+X, the new memory location is created for Y. We can't do like go around and allocate memory unnecessarily. We can use `Y+=X` to save memory. This is called in-place operation."
   ]
  },
  {
   "cell_type": "code",
   "execution_count": 71,
   "id": "5cb8e39a",
   "metadata": {},
   "outputs": [
    {
     "data": {
      "text/plain": [
       "False"
      ]
     },
     "execution_count": 71,
     "metadata": {},
     "output_type": "execute_result"
    }
   ],
   "source": [
    "before = id(Y)\n",
    "Y = Y + X\n",
    "after = id(Y)\n",
    "before == after"
   ]
  },
  {
   "cell_type": "code",
   "execution_count": 72,
   "id": "9a55b23d",
   "metadata": {},
   "outputs": [
    {
     "data": {
      "text/plain": [
       "True"
      ]
     },
     "execution_count": 72,
     "metadata": {},
     "output_type": "execute_result"
    }
   ],
   "source": [
    "before_ = id(X)\n",
    "X += Y\n",
    "after_ = id(X)\n",
    "after_ == before_"
   ]
  },
  {
   "cell_type": "markdown",
   "id": "2b9024c0",
   "metadata": {},
   "source": [
    "Conversion of other python objects"
   ]
  },
  {
   "cell_type": "code",
   "execution_count": null,
   "id": "bbc01b09",
   "metadata": {},
   "outputs": [
    {
     "data": {
      "text/plain": [
       "(tensor([3.5000]), 3.5, 3.5, 3)"
      ]
     },
     "execution_count": 74,
     "metadata": {},
     "output_type": "execute_result"
    }
   ],
   "source": [
    "a = torch.tensor([3.5])\n",
    "a, a.item(), float(a), int(a)"
   ]
  },
  {
   "cell_type": "code",
   "execution_count": 77,
   "id": "611cbeb0",
   "metadata": {},
   "outputs": [
    {
     "data": {
      "text/plain": [
       "(tensor([[0, 1, 2],\n",
       "         [3, 4, 5],\n",
       "         [6, 7, 8]]),\n",
       " tensor([[4],\n",
       "         [5],\n",
       "         [6]]))"
      ]
     },
     "execution_count": 77,
     "metadata": {},
     "output_type": "execute_result"
    }
   ],
   "source": [
    "a = torch.arange(0, 9, 1).reshape(3, 3)\n",
    "b = torch.tensor([4, 5, 6]).reshape(3, 1)\n",
    "a, b"
   ]
  },
  {
   "cell_type": "code",
   "execution_count": 78,
   "id": "ab0e8221",
   "metadata": {},
   "outputs": [
    {
     "data": {
      "text/plain": [
       "tensor([[ 4,  5,  6],\n",
       "        [ 8,  9, 10],\n",
       "        [12, 13, 14]])"
      ]
     },
     "execution_count": 78,
     "metadata": {},
     "output_type": "execute_result"
    }
   ],
   "source": [
    "a+b"
   ]
  },
  {
   "cell_type": "markdown",
   "id": "85d8bb7f",
   "metadata": {},
   "source": [
    "## 2.2 Data Preprocessing"
   ]
  },
  {
   "cell_type": "markdown",
   "id": "60c02294",
   "metadata": {
    "slideshow": {
     "slide_type": "notes"
    }
   },
   "source": [
    "### Training a Neural Network for the Abalone Dataset"
   ]
  },
  {
   "cell_type": "code",
   "execution_count": 76,
   "id": "d0ec2714",
   "metadata": {},
   "outputs": [],
   "source": [
    "import pandas as pd\n",
    "import torch\n",
    "import numpy as np"
   ]
  },
  {
   "cell_type": "code",
   "execution_count": 50,
   "id": "cbb1f602",
   "metadata": {},
   "outputs": [
    {
     "data": {
      "text/plain": [
       "Index([0, 1, 2, 3, 4, 5, 6, 7, 8], dtype='int64')"
      ]
     },
     "execution_count": 50,
     "metadata": {},
     "output_type": "execute_result"
    }
   ],
   "source": [
    "body = pd.read_csv(\"abalone/abalone.data\", header=None)\n",
    "body.columns"
   ]
  },
  {
   "cell_type": "code",
   "execution_count": 51,
   "id": "c19dc796",
   "metadata": {},
   "outputs": [
    {
     "data": {
      "text/html": [
       "<div>\n",
       "<style scoped>\n",
       "    .dataframe tbody tr th:only-of-type {\n",
       "        vertical-align: middle;\n",
       "    }\n",
       "\n",
       "    .dataframe tbody tr th {\n",
       "        vertical-align: top;\n",
       "    }\n",
       "\n",
       "    .dataframe thead th {\n",
       "        text-align: right;\n",
       "    }\n",
       "</style>\n",
       "<table border=\"1\" class=\"dataframe\">\n",
       "  <thead>\n",
       "    <tr style=\"text-align: right;\">\n",
       "      <th></th>\n",
       "      <th>0</th>\n",
       "      <th>1</th>\n",
       "      <th>2</th>\n",
       "      <th>3</th>\n",
       "      <th>4</th>\n",
       "      <th>5</th>\n",
       "      <th>6</th>\n",
       "      <th>7</th>\n",
       "      <th>8</th>\n",
       "    </tr>\n",
       "  </thead>\n",
       "  <tbody>\n",
       "    <tr>\n",
       "      <th>0</th>\n",
       "      <td>M</td>\n",
       "      <td>0.455</td>\n",
       "      <td>0.365</td>\n",
       "      <td>0.095</td>\n",
       "      <td>0.5140</td>\n",
       "      <td>0.2245</td>\n",
       "      <td>0.1010</td>\n",
       "      <td>0.150</td>\n",
       "      <td>15</td>\n",
       "    </tr>\n",
       "    <tr>\n",
       "      <th>1</th>\n",
       "      <td>M</td>\n",
       "      <td>0.350</td>\n",
       "      <td>0.265</td>\n",
       "      <td>0.090</td>\n",
       "      <td>0.2255</td>\n",
       "      <td>0.0995</td>\n",
       "      <td>0.0485</td>\n",
       "      <td>0.070</td>\n",
       "      <td>7</td>\n",
       "    </tr>\n",
       "    <tr>\n",
       "      <th>2</th>\n",
       "      <td>F</td>\n",
       "      <td>0.530</td>\n",
       "      <td>0.420</td>\n",
       "      <td>0.135</td>\n",
       "      <td>0.6770</td>\n",
       "      <td>0.2565</td>\n",
       "      <td>0.1415</td>\n",
       "      <td>0.210</td>\n",
       "      <td>9</td>\n",
       "    </tr>\n",
       "    <tr>\n",
       "      <th>3</th>\n",
       "      <td>M</td>\n",
       "      <td>0.440</td>\n",
       "      <td>0.365</td>\n",
       "      <td>0.125</td>\n",
       "      <td>0.5160</td>\n",
       "      <td>0.2155</td>\n",
       "      <td>0.1140</td>\n",
       "      <td>0.155</td>\n",
       "      <td>10</td>\n",
       "    </tr>\n",
       "    <tr>\n",
       "      <th>4</th>\n",
       "      <td>I</td>\n",
       "      <td>0.330</td>\n",
       "      <td>0.255</td>\n",
       "      <td>0.080</td>\n",
       "      <td>0.2050</td>\n",
       "      <td>0.0895</td>\n",
       "      <td>0.0395</td>\n",
       "      <td>0.055</td>\n",
       "      <td>7</td>\n",
       "    </tr>\n",
       "  </tbody>\n",
       "</table>\n",
       "</div>"
      ],
      "text/plain": [
       "   0      1      2      3       4       5       6      7   8\n",
       "0  M  0.455  0.365  0.095  0.5140  0.2245  0.1010  0.150  15\n",
       "1  M  0.350  0.265  0.090  0.2255  0.0995  0.0485  0.070   7\n",
       "2  F  0.530  0.420  0.135  0.6770  0.2565  0.1415  0.210   9\n",
       "3  M  0.440  0.365  0.125  0.5160  0.2155  0.1140  0.155  10\n",
       "4  I  0.330  0.255  0.080  0.2050  0.0895  0.0395  0.055   7"
      ]
     },
     "execution_count": 51,
     "metadata": {},
     "output_type": "execute_result"
    }
   ],
   "source": [
    "body.head()"
   ]
  },
  {
   "cell_type": "code",
   "execution_count": 52,
   "id": "3110dd1c",
   "metadata": {},
   "outputs": [
    {
     "data": {
      "text/html": [
       "<div>\n",
       "<style scoped>\n",
       "    .dataframe tbody tr th:only-of-type {\n",
       "        vertical-align: middle;\n",
       "    }\n",
       "\n",
       "    .dataframe tbody tr th {\n",
       "        vertical-align: top;\n",
       "    }\n",
       "\n",
       "    .dataframe thead th {\n",
       "        text-align: right;\n",
       "    }\n",
       "</style>\n",
       "<table border=\"1\" class=\"dataframe\">\n",
       "  <thead>\n",
       "    <tr style=\"text-align: right;\">\n",
       "      <th></th>\n",
       "      <th>Sex</th>\n",
       "      <th>Length</th>\n",
       "      <th>Diameter</th>\n",
       "      <th>Height</th>\n",
       "      <th>WholeWeight</th>\n",
       "      <th>ShuckedWeight</th>\n",
       "      <th>VisceraWeight</th>\n",
       "      <th>ShellWeight</th>\n",
       "      <th>Rings</th>\n",
       "    </tr>\n",
       "  </thead>\n",
       "  <tbody>\n",
       "    <tr>\n",
       "      <th>0</th>\n",
       "      <td>M</td>\n",
       "      <td>0.455</td>\n",
       "      <td>0.365</td>\n",
       "      <td>0.095</td>\n",
       "      <td>0.5140</td>\n",
       "      <td>0.2245</td>\n",
       "      <td>0.1010</td>\n",
       "      <td>0.150</td>\n",
       "      <td>15</td>\n",
       "    </tr>\n",
       "    <tr>\n",
       "      <th>1</th>\n",
       "      <td>M</td>\n",
       "      <td>0.350</td>\n",
       "      <td>0.265</td>\n",
       "      <td>0.090</td>\n",
       "      <td>0.2255</td>\n",
       "      <td>0.0995</td>\n",
       "      <td>0.0485</td>\n",
       "      <td>0.070</td>\n",
       "      <td>7</td>\n",
       "    </tr>\n",
       "    <tr>\n",
       "      <th>2</th>\n",
       "      <td>F</td>\n",
       "      <td>0.530</td>\n",
       "      <td>0.420</td>\n",
       "      <td>0.135</td>\n",
       "      <td>0.6770</td>\n",
       "      <td>0.2565</td>\n",
       "      <td>0.1415</td>\n",
       "      <td>0.210</td>\n",
       "      <td>9</td>\n",
       "    </tr>\n",
       "    <tr>\n",
       "      <th>3</th>\n",
       "      <td>M</td>\n",
       "      <td>0.440</td>\n",
       "      <td>0.365</td>\n",
       "      <td>0.125</td>\n",
       "      <td>0.5160</td>\n",
       "      <td>0.2155</td>\n",
       "      <td>0.1140</td>\n",
       "      <td>0.155</td>\n",
       "      <td>10</td>\n",
       "    </tr>\n",
       "    <tr>\n",
       "      <th>4</th>\n",
       "      <td>I</td>\n",
       "      <td>0.330</td>\n",
       "      <td>0.255</td>\n",
       "      <td>0.080</td>\n",
       "      <td>0.2050</td>\n",
       "      <td>0.0895</td>\n",
       "      <td>0.0395</td>\n",
       "      <td>0.055</td>\n",
       "      <td>7</td>\n",
       "    </tr>\n",
       "  </tbody>\n",
       "</table>\n",
       "</div>"
      ],
      "text/plain": [
       "  Sex  Length  Diameter  Height  WholeWeight  ShuckedWeight  VisceraWeight  \\\n",
       "0   M   0.455     0.365   0.095       0.5140         0.2245         0.1010   \n",
       "1   M   0.350     0.265   0.090       0.2255         0.0995         0.0485   \n",
       "2   F   0.530     0.420   0.135       0.6770         0.2565         0.1415   \n",
       "3   M   0.440     0.365   0.125       0.5160         0.2155         0.1140   \n",
       "4   I   0.330     0.255   0.080       0.2050         0.0895         0.0395   \n",
       "\n",
       "   ShellWeight  Rings  \n",
       "0        0.150     15  \n",
       "1        0.070      7  \n",
       "2        0.210      9  \n",
       "3        0.155     10  \n",
       "4        0.055      7  "
      ]
     },
     "execution_count": 52,
     "metadata": {},
     "output_type": "execute_result"
    }
   ],
   "source": [
    "headers = [\"Sex\", \"Length\", \"Diameter\", \"Height\", \"WholeWeight\", \"ShuckedWeight\", \"VisceraWeight\", \"ShellWeight\", \"Rings\"]\n",
    "body.columns = headers\n",
    "body.head()"
   ]
  },
  {
   "cell_type": "code",
   "execution_count": 53,
   "id": "adedb98a",
   "metadata": {},
   "outputs": [
    {
     "data": {
      "text/html": [
       "<div>\n",
       "<style scoped>\n",
       "    .dataframe tbody tr th:only-of-type {\n",
       "        vertical-align: middle;\n",
       "    }\n",
       "\n",
       "    .dataframe tbody tr th {\n",
       "        vertical-align: top;\n",
       "    }\n",
       "\n",
       "    .dataframe thead th {\n",
       "        text-align: right;\n",
       "    }\n",
       "</style>\n",
       "<table border=\"1\" class=\"dataframe\">\n",
       "  <thead>\n",
       "    <tr style=\"text-align: right;\">\n",
       "      <th></th>\n",
       "      <th>Length</th>\n",
       "      <th>Diameter</th>\n",
       "      <th>Height</th>\n",
       "      <th>WholeWeight</th>\n",
       "      <th>ShuckedWeight</th>\n",
       "      <th>VisceraWeight</th>\n",
       "      <th>ShellWeight</th>\n",
       "      <th>Rings</th>\n",
       "    </tr>\n",
       "  </thead>\n",
       "  <tbody>\n",
       "    <tr>\n",
       "      <th>count</th>\n",
       "      <td>4177.000000</td>\n",
       "      <td>4177.000000</td>\n",
       "      <td>4177.000000</td>\n",
       "      <td>4177.000000</td>\n",
       "      <td>4177.000000</td>\n",
       "      <td>4177.000000</td>\n",
       "      <td>4177.000000</td>\n",
       "      <td>4177.000000</td>\n",
       "    </tr>\n",
       "    <tr>\n",
       "      <th>mean</th>\n",
       "      <td>0.523992</td>\n",
       "      <td>0.407881</td>\n",
       "      <td>0.139516</td>\n",
       "      <td>0.828742</td>\n",
       "      <td>0.359367</td>\n",
       "      <td>0.180594</td>\n",
       "      <td>0.238831</td>\n",
       "      <td>9.933684</td>\n",
       "    </tr>\n",
       "    <tr>\n",
       "      <th>std</th>\n",
       "      <td>0.120093</td>\n",
       "      <td>0.099240</td>\n",
       "      <td>0.041827</td>\n",
       "      <td>0.490389</td>\n",
       "      <td>0.221963</td>\n",
       "      <td>0.109614</td>\n",
       "      <td>0.139203</td>\n",
       "      <td>3.224169</td>\n",
       "    </tr>\n",
       "    <tr>\n",
       "      <th>min</th>\n",
       "      <td>0.075000</td>\n",
       "      <td>0.055000</td>\n",
       "      <td>0.000000</td>\n",
       "      <td>0.002000</td>\n",
       "      <td>0.001000</td>\n",
       "      <td>0.000500</td>\n",
       "      <td>0.001500</td>\n",
       "      <td>1.000000</td>\n",
       "    </tr>\n",
       "    <tr>\n",
       "      <th>25%</th>\n",
       "      <td>0.450000</td>\n",
       "      <td>0.350000</td>\n",
       "      <td>0.115000</td>\n",
       "      <td>0.441500</td>\n",
       "      <td>0.186000</td>\n",
       "      <td>0.093500</td>\n",
       "      <td>0.130000</td>\n",
       "      <td>8.000000</td>\n",
       "    </tr>\n",
       "    <tr>\n",
       "      <th>50%</th>\n",
       "      <td>0.545000</td>\n",
       "      <td>0.425000</td>\n",
       "      <td>0.140000</td>\n",
       "      <td>0.799500</td>\n",
       "      <td>0.336000</td>\n",
       "      <td>0.171000</td>\n",
       "      <td>0.234000</td>\n",
       "      <td>9.000000</td>\n",
       "    </tr>\n",
       "    <tr>\n",
       "      <th>75%</th>\n",
       "      <td>0.615000</td>\n",
       "      <td>0.480000</td>\n",
       "      <td>0.165000</td>\n",
       "      <td>1.153000</td>\n",
       "      <td>0.502000</td>\n",
       "      <td>0.253000</td>\n",
       "      <td>0.329000</td>\n",
       "      <td>11.000000</td>\n",
       "    </tr>\n",
       "    <tr>\n",
       "      <th>max</th>\n",
       "      <td>0.815000</td>\n",
       "      <td>0.650000</td>\n",
       "      <td>1.130000</td>\n",
       "      <td>2.825500</td>\n",
       "      <td>1.488000</td>\n",
       "      <td>0.760000</td>\n",
       "      <td>1.005000</td>\n",
       "      <td>29.000000</td>\n",
       "    </tr>\n",
       "  </tbody>\n",
       "</table>\n",
       "</div>"
      ],
      "text/plain": [
       "            Length     Diameter       Height  WholeWeight  ShuckedWeight  \\\n",
       "count  4177.000000  4177.000000  4177.000000  4177.000000    4177.000000   \n",
       "mean      0.523992     0.407881     0.139516     0.828742       0.359367   \n",
       "std       0.120093     0.099240     0.041827     0.490389       0.221963   \n",
       "min       0.075000     0.055000     0.000000     0.002000       0.001000   \n",
       "25%       0.450000     0.350000     0.115000     0.441500       0.186000   \n",
       "50%       0.545000     0.425000     0.140000     0.799500       0.336000   \n",
       "75%       0.615000     0.480000     0.165000     1.153000       0.502000   \n",
       "max       0.815000     0.650000     1.130000     2.825500       1.488000   \n",
       "\n",
       "       VisceraWeight  ShellWeight        Rings  \n",
       "count    4177.000000  4177.000000  4177.000000  \n",
       "mean        0.180594     0.238831     9.933684  \n",
       "std         0.109614     0.139203     3.224169  \n",
       "min         0.000500     0.001500     1.000000  \n",
       "25%         0.093500     0.130000     8.000000  \n",
       "50%         0.171000     0.234000     9.000000  \n",
       "75%         0.253000     0.329000    11.000000  \n",
       "max         0.760000     1.005000    29.000000  "
      ]
     },
     "execution_count": 53,
     "metadata": {},
     "output_type": "execute_result"
    }
   ],
   "source": [
    "body.describe()"
   ]
  },
  {
   "cell_type": "markdown",
   "id": "5c4da95b",
   "metadata": {},
   "source": [
    "Checking for the null values in the dataset:\n"
   ]
  },
  {
   "cell_type": "code",
   "execution_count": 54,
   "id": "f91d0cfd",
   "metadata": {},
   "outputs": [
    {
     "data": {
      "text/plain": [
       "Sex              0\n",
       "Length           0\n",
       "Diameter         0\n",
       "Height           0\n",
       "WholeWeight      0\n",
       "ShuckedWeight    0\n",
       "VisceraWeight    0\n",
       "ShellWeight      0\n",
       "Rings            0\n",
       "dtype: int64"
      ]
     },
     "execution_count": 54,
     "metadata": {},
     "output_type": "execute_result"
    }
   ],
   "source": [
    "body.isnull().sum()"
   ]
  },
  {
   "cell_type": "markdown",
   "id": "f610e130",
   "metadata": {},
   "source": [
    "Inspecting the dataset columns and their data types:"
   ]
  },
  {
   "cell_type": "code",
   "execution_count": 55,
   "id": "15e63577",
   "metadata": {},
   "outputs": [
    {
     "data": {
      "text/plain": [
       "(Index(['Sex', 'Length', 'Diameter', 'Height', 'WholeWeight', 'ShuckedWeight',\n",
       "        'VisceraWeight', 'ShellWeight', 'Rings'],\n",
       "       dtype='object'),\n",
       " Sex               object\n",
       " Length           float64\n",
       " Diameter         float64\n",
       " Height           float64\n",
       " WholeWeight      float64\n",
       " ShuckedWeight    float64\n",
       " VisceraWeight    float64\n",
       " ShellWeight      float64\n",
       " Rings              int64\n",
       " dtype: object)"
      ]
     },
     "execution_count": 55,
     "metadata": {},
     "output_type": "execute_result"
    }
   ],
   "source": [
    "body.columns, body.dtypes"
   ]
  },
  {
   "cell_type": "code",
   "execution_count": 56,
   "id": "80263b02",
   "metadata": {},
   "outputs": [
    {
     "data": {
      "text/plain": [
       "Sex\n",
       "M    1528\n",
       "I    1342\n",
       "F    1307\n",
       "Name: count, dtype: int64"
      ]
     },
     "execution_count": 56,
     "metadata": {},
     "output_type": "execute_result"
    }
   ],
   "source": [
    "body[\"Sex\"].value_counts()"
   ]
  },
  {
   "cell_type": "markdown",
   "id": "9f87d059",
   "metadata": {},
   "source": [
    "Doing one hot encoding for neural networks as the neural networks do not understand categorical data like if i assign M as 0, F as 1 and I as 2, the neural network will think that M is less than F and F is less than I which is not true."
   ]
  },
  {
   "cell_type": "code",
   "execution_count": 59,
   "id": "ddcb819f",
   "metadata": {},
   "outputs": [],
   "source": [
    "body = pd.get_dummies(body, columns=[\"Sex\"])"
   ]
  },
  {
   "cell_type": "markdown",
   "id": "68a79d9f",
   "metadata": {},
   "source": [
    "Checking the correlation between the features and the target variable\n",
    "Correlation heatmap describes the relationship between the features and the target variable. A high correlation (close to 1 or -1) indicates a strong relationship, while a value close to 0 indicates a weak relationship."
   ]
  },
  {
   "cell_type": "code",
   "execution_count": 60,
   "id": "1458e30f",
   "metadata": {},
   "outputs": [
    {
     "data": {
      "image/png": "[encoded data removed]",
      "text/plain": [
       "<Figure size 1000x800 with 2 Axes>"
      ]
     },
     "metadata": {},
     "output_type": "display_data"
    }
   ],
   "source": [
    "import seaborn as sns\n",
    "import matplotlib.pyplot as plt\n",
    "plt.figure(figsize=(10, 8))\n",
    "sns.heatmap(body.corr(), annot=True, fmt=\".2f\", cmap=\"coolwarm\")\n",
    "# Checking the correlation between the features and the target variable\n",
    "plt.title(\"Correlation Heatmap\")\n",
    "plt.show()"
   ]
  },
  {
   "cell_type": "code",
   "execution_count": 61,
   "id": "c33a0e52",
   "metadata": {},
   "outputs": [
    {
     "data": {
      "text/html": [
       "<div>\n",
       "<style scoped>\n",
       "    .dataframe tbody tr th:only-of-type {\n",
       "        vertical-align: middle;\n",
       "    }\n",
       "\n",
       "    .dataframe tbody tr th {\n",
       "        vertical-align: top;\n",
       "    }\n",
       "\n",
       "    .dataframe thead th {\n",
       "        text-align: right;\n",
       "    }\n",
       "</style>\n",
       "<table border=\"1\" class=\"dataframe\">\n",
       "  <thead>\n",
       "    <tr style=\"text-align: right;\">\n",
       "      <th></th>\n",
       "      <th>Length</th>\n",
       "      <th>Diameter</th>\n",
       "      <th>Height</th>\n",
       "      <th>WholeWeight</th>\n",
       "      <th>ShuckedWeight</th>\n",
       "      <th>VisceraWeight</th>\n",
       "      <th>ShellWeight</th>\n",
       "      <th>Rings</th>\n",
       "      <th>Sex_F</th>\n",
       "      <th>Sex_I</th>\n",
       "      <th>Sex_M</th>\n",
       "    </tr>\n",
       "  </thead>\n",
       "  <tbody>\n",
       "    <tr>\n",
       "      <th>0</th>\n",
       "      <td>0.455</td>\n",
       "      <td>0.365</td>\n",
       "      <td>0.095</td>\n",
       "      <td>0.5140</td>\n",
       "      <td>0.2245</td>\n",
       "      <td>0.1010</td>\n",
       "      <td>0.150</td>\n",
       "      <td>15</td>\n",
       "      <td>False</td>\n",
       "      <td>False</td>\n",
       "      <td>True</td>\n",
       "    </tr>\n",
       "    <tr>\n",
       "      <th>1</th>\n",
       "      <td>0.350</td>\n",
       "      <td>0.265</td>\n",
       "      <td>0.090</td>\n",
       "      <td>0.2255</td>\n",
       "      <td>0.0995</td>\n",
       "      <td>0.0485</td>\n",
       "      <td>0.070</td>\n",
       "      <td>7</td>\n",
       "      <td>False</td>\n",
       "      <td>False</td>\n",
       "      <td>True</td>\n",
       "    </tr>\n",
       "    <tr>\n",
       "      <th>2</th>\n",
       "      <td>0.530</td>\n",
       "      <td>0.420</td>\n",
       "      <td>0.135</td>\n",
       "      <td>0.6770</td>\n",
       "      <td>0.2565</td>\n",
       "      <td>0.1415</td>\n",
       "      <td>0.210</td>\n",
       "      <td>9</td>\n",
       "      <td>True</td>\n",
       "      <td>False</td>\n",
       "      <td>False</td>\n",
       "    </tr>\n",
       "    <tr>\n",
       "      <th>3</th>\n",
       "      <td>0.440</td>\n",
       "      <td>0.365</td>\n",
       "      <td>0.125</td>\n",
       "      <td>0.5160</td>\n",
       "      <td>0.2155</td>\n",
       "      <td>0.1140</td>\n",
       "      <td>0.155</td>\n",
       "      <td>10</td>\n",
       "      <td>False</td>\n",
       "      <td>False</td>\n",
       "      <td>True</td>\n",
       "    </tr>\n",
       "    <tr>\n",
       "      <th>4</th>\n",
       "      <td>0.330</td>\n",
       "      <td>0.255</td>\n",
       "      <td>0.080</td>\n",
       "      <td>0.2050</td>\n",
       "      <td>0.0895</td>\n",
       "      <td>0.0395</td>\n",
       "      <td>0.055</td>\n",
       "      <td>7</td>\n",
       "      <td>False</td>\n",
       "      <td>True</td>\n",
       "      <td>False</td>\n",
       "    </tr>\n",
       "  </tbody>\n",
       "</table>\n",
       "</div>"
      ],
      "text/plain": [
       "   Length  Diameter  Height  WholeWeight  ShuckedWeight  VisceraWeight  \\\n",
       "0   0.455     0.365   0.095       0.5140         0.2245         0.1010   \n",
       "1   0.350     0.265   0.090       0.2255         0.0995         0.0485   \n",
       "2   0.530     0.420   0.135       0.6770         0.2565         0.1415   \n",
       "3   0.440     0.365   0.125       0.5160         0.2155         0.1140   \n",
       "4   0.330     0.255   0.080       0.2050         0.0895         0.0395   \n",
       "\n",
       "   ShellWeight  Rings  Sex_F  Sex_I  Sex_M  \n",
       "0        0.150     15  False  False   True  \n",
       "1        0.070      7  False  False   True  \n",
       "2        0.210      9   True  False  False  \n",
       "3        0.155     10  False  False   True  \n",
       "4        0.055      7  False   True  False  "
      ]
     },
     "execution_count": 61,
     "metadata": {},
     "output_type": "execute_result"
    }
   ],
   "source": [
    "body.head()"
   ]
  },
  {
   "cell_type": "markdown",
   "id": "8b7a436f",
   "metadata": {},
   "source": [
    "Applying StandardScaler to the dataset"
   ]
  },
  {
   "cell_type": "code",
   "execution_count": 72,
   "id": "5d455d74",
   "metadata": {},
   "outputs": [
    {
     "data": {
      "text/plain": [
       "(   Length  Diameter  Height  WholeWeight  ShuckedWeight  VisceraWeight  \\\n",
       " 0   0.455     0.365   0.095       0.5140         0.2245         0.1010   \n",
       " 1   0.350     0.265   0.090       0.2255         0.0995         0.0485   \n",
       " 2   0.530     0.420   0.135       0.6770         0.2565         0.1415   \n",
       " 3   0.440     0.365   0.125       0.5160         0.2155         0.1140   \n",
       " 4   0.330     0.255   0.080       0.2050         0.0895         0.0395   \n",
       " \n",
       "    ShellWeight  Sex_F  Sex_I  Sex_M  \n",
       " 0        0.150  False  False   True  \n",
       " 1        0.070  False  False   True  \n",
       " 2        0.210   True  False  False  \n",
       " 3        0.155  False  False   True  \n",
       " 4        0.055  False   True  False  ,\n",
       " 0    15\n",
       " 1     7\n",
       " 2     9\n",
       " 3    10\n",
       " 4     7\n",
       " Name: Rings, dtype: int64)"
      ]
     },
     "execution_count": 72,
     "metadata": {},
     "output_type": "execute_result"
    }
   ],
   "source": [
    "X = body.drop(columns=[\"Rings\"])\n",
    "y = body[\"Rings\"]\n",
    "X.head(), y.head()"
   ]
  },
  {
   "cell_type": "code",
   "execution_count": 73,
   "id": "41f9dae9",
   "metadata": {},
   "outputs": [
    {
     "data": {
      "text/plain": [
       "((3341, 10), (836, 10), (3341,), (836,))"
      ]
     },
     "execution_count": 73,
     "metadata": {},
     "output_type": "execute_result"
    }
   ],
   "source": [
    "from sklearn.model_selection import train_test_split\n",
    "X_train, X_test, y_train, y_test = train_test_split(X, y, test_size=0.2, random_state=42)\n",
    "X_train.shape, X_test.shape, y_train.shape, y_test.shape"
   ]
  },
  {
   "cell_type": "code",
   "execution_count": 74,
   "id": "18cd7706",
   "metadata": {},
   "outputs": [
    {
     "data": {
      "text/html": [
       "<div>\n",
       "<style scoped>\n",
       "    .dataframe tbody tr th:only-of-type {\n",
       "        vertical-align: middle;\n",
       "    }\n",
       "\n",
       "    .dataframe tbody tr th {\n",
       "        vertical-align: top;\n",
       "    }\n",
       "\n",
       "    .dataframe thead th {\n",
       "        text-align: right;\n",
       "    }\n",
       "</style>\n",
       "<table border=\"1\" class=\"dataframe\">\n",
       "  <thead>\n",
       "    <tr style=\"text-align: right;\">\n",
       "      <th></th>\n",
       "      <th>Length</th>\n",
       "      <th>Diameter</th>\n",
       "      <th>Height</th>\n",
       "      <th>WholeWeight</th>\n",
       "      <th>ShuckedWeight</th>\n",
       "      <th>VisceraWeight</th>\n",
       "      <th>ShellWeight</th>\n",
       "      <th>Sex_F</th>\n",
       "      <th>Sex_I</th>\n",
       "      <th>Sex_M</th>\n",
       "    </tr>\n",
       "  </thead>\n",
       "  <tbody>\n",
       "    <tr>\n",
       "      <th>866</th>\n",
       "      <td>0.605</td>\n",
       "      <td>0.455</td>\n",
       "      <td>0.160</td>\n",
       "      <td>1.1035</td>\n",
       "      <td>0.4210</td>\n",
       "      <td>0.3015</td>\n",
       "      <td>0.325</td>\n",
       "      <td>False</td>\n",
       "      <td>False</td>\n",
       "      <td>True</td>\n",
       "    </tr>\n",
       "    <tr>\n",
       "      <th>1483</th>\n",
       "      <td>0.590</td>\n",
       "      <td>0.440</td>\n",
       "      <td>0.150</td>\n",
       "      <td>0.8725</td>\n",
       "      <td>0.3870</td>\n",
       "      <td>0.2150</td>\n",
       "      <td>0.245</td>\n",
       "      <td>False</td>\n",
       "      <td>False</td>\n",
       "      <td>True</td>\n",
       "    </tr>\n",
       "    <tr>\n",
       "      <th>599</th>\n",
       "      <td>0.560</td>\n",
       "      <td>0.445</td>\n",
       "      <td>0.195</td>\n",
       "      <td>0.9810</td>\n",
       "      <td>0.3050</td>\n",
       "      <td>0.2245</td>\n",
       "      <td>0.335</td>\n",
       "      <td>True</td>\n",
       "      <td>False</td>\n",
       "      <td>False</td>\n",
       "    </tr>\n",
       "    <tr>\n",
       "      <th>1702</th>\n",
       "      <td>0.635</td>\n",
       "      <td>0.490</td>\n",
       "      <td>0.170</td>\n",
       "      <td>1.2615</td>\n",
       "      <td>0.5385</td>\n",
       "      <td>0.2665</td>\n",
       "      <td>0.380</td>\n",
       "      <td>True</td>\n",
       "      <td>False</td>\n",
       "      <td>False</td>\n",
       "    </tr>\n",
       "    <tr>\n",
       "      <th>670</th>\n",
       "      <td>0.475</td>\n",
       "      <td>0.385</td>\n",
       "      <td>0.145</td>\n",
       "      <td>0.6175</td>\n",
       "      <td>0.2350</td>\n",
       "      <td>0.1080</td>\n",
       "      <td>0.215</td>\n",
       "      <td>False</td>\n",
       "      <td>False</td>\n",
       "      <td>True</td>\n",
       "    </tr>\n",
       "    <tr>\n",
       "      <th>...</th>\n",
       "      <td>...</td>\n",
       "      <td>...</td>\n",
       "      <td>...</td>\n",
       "      <td>...</td>\n",
       "      <td>...</td>\n",
       "      <td>...</td>\n",
       "      <td>...</td>\n",
       "      <td>...</td>\n",
       "      <td>...</td>\n",
       "      <td>...</td>\n",
       "    </tr>\n",
       "    <tr>\n",
       "      <th>3093</th>\n",
       "      <td>0.520</td>\n",
       "      <td>0.430</td>\n",
       "      <td>0.150</td>\n",
       "      <td>0.7280</td>\n",
       "      <td>0.3020</td>\n",
       "      <td>0.1575</td>\n",
       "      <td>0.235</td>\n",
       "      <td>True</td>\n",
       "      <td>False</td>\n",
       "      <td>False</td>\n",
       "    </tr>\n",
       "    <tr>\n",
       "      <th>1651</th>\n",
       "      <td>0.595</td>\n",
       "      <td>0.435</td>\n",
       "      <td>0.150</td>\n",
       "      <td>0.9000</td>\n",
       "      <td>0.4175</td>\n",
       "      <td>0.1700</td>\n",
       "      <td>0.265</td>\n",
       "      <td>True</td>\n",
       "      <td>False</td>\n",
       "      <td>False</td>\n",
       "    </tr>\n",
       "    <tr>\n",
       "      <th>2897</th>\n",
       "      <td>0.545</td>\n",
       "      <td>0.430</td>\n",
       "      <td>0.150</td>\n",
       "      <td>0.7420</td>\n",
       "      <td>0.3525</td>\n",
       "      <td>0.1580</td>\n",
       "      <td>0.208</td>\n",
       "      <td>False</td>\n",
       "      <td>True</td>\n",
       "      <td>False</td>\n",
       "    </tr>\n",
       "    <tr>\n",
       "      <th>3953</th>\n",
       "      <td>0.465</td>\n",
       "      <td>0.355</td>\n",
       "      <td>0.120</td>\n",
       "      <td>0.5805</td>\n",
       "      <td>0.2550</td>\n",
       "      <td>0.0915</td>\n",
       "      <td>0.184</td>\n",
       "      <td>False</td>\n",
       "      <td>True</td>\n",
       "      <td>False</td>\n",
       "    </tr>\n",
       "    <tr>\n",
       "      <th>1830</th>\n",
       "      <td>0.365</td>\n",
       "      <td>0.275</td>\n",
       "      <td>0.085</td>\n",
       "      <td>0.2230</td>\n",
       "      <td>0.0980</td>\n",
       "      <td>0.0375</td>\n",
       "      <td>0.075</td>\n",
       "      <td>False</td>\n",
       "      <td>True</td>\n",
       "      <td>False</td>\n",
       "    </tr>\n",
       "  </tbody>\n",
       "</table>\n",
       "<p>836 rows × 10 columns</p>\n",
       "</div>"
      ],
      "text/plain": [
       "      Length  Diameter  Height  WholeWeight  ShuckedWeight  VisceraWeight  \\\n",
       "866    0.605     0.455   0.160       1.1035         0.4210         0.3015   \n",
       "1483   0.590     0.440   0.150       0.8725         0.3870         0.2150   \n",
       "599    0.560     0.445   0.195       0.9810         0.3050         0.2245   \n",
       "1702   0.635     0.490   0.170       1.2615         0.5385         0.2665   \n",
       "670    0.475     0.385   0.145       0.6175         0.2350         0.1080   \n",
       "...      ...       ...     ...          ...            ...            ...   \n",
       "3093   0.520     0.430   0.150       0.7280         0.3020         0.1575   \n",
       "1651   0.595     0.435   0.150       0.9000         0.4175         0.1700   \n",
       "2897   0.545     0.430   0.150       0.7420         0.3525         0.1580   \n",
       "3953   0.465     0.355   0.120       0.5805         0.2550         0.0915   \n",
       "1830   0.365     0.275   0.085       0.2230         0.0980         0.0375   \n",
       "\n",
       "      ShellWeight  Sex_F  Sex_I  Sex_M  \n",
       "866         0.325  False  False   True  \n",
       "1483        0.245  False  False   True  \n",
       "599         0.335   True  False  False  \n",
       "1702        0.380   True  False  False  \n",
       "670         0.215  False  False   True  \n",
       "...           ...    ...    ...    ...  \n",
       "3093        0.235   True  False  False  \n",
       "1651        0.265   True  False  False  \n",
       "2897        0.208  False   True  False  \n",
       "3953        0.184  False   True  False  \n",
       "1830        0.075  False   True  False  \n",
       "\n",
       "[836 rows x 10 columns]"
      ]
     },
     "execution_count": 74,
     "metadata": {},
     "output_type": "execute_result"
    }
   ],
   "source": [
    "X_test"
   ]
  },
  {
   "cell_type": "code",
   "execution_count": 77,
   "id": "67c810a6",
   "metadata": {},
   "outputs": [],
   "source": [
    "from sklearn.preprocessing import StandardScaler\n",
    "scaler = StandardScaler()\n",
    "\n",
    "numerical_cols = ['Length', 'Diameter', 'Height', 'WholeWeight', \n",
    "                  'ShuckedWeight', 'VisceraWeight', 'ShellWeight']\n",
    "\n",
    "categorical_cols = ['Sex_F', 'Sex_I', 'Sex_M']\n",
    "\n",
    "# Scaling only the numerical columns\n",
    "X_train_scaled = scaler.fit_transform(X_train[numerical_cols])\n",
    "X_test_scaled = scaler.transform(X_test[numerical_cols])\n",
    "## We should never use the fit_transform on the test set, only transform it.\n",
    "x_train_categorical = X_train[categorical_cols].astype(int).values\n",
    "x_test_categorical = X_test[categorical_cols].astype(int).values\n",
    "# Combining scaled numerical and categorical data\n",
    "X_train_scaled = np.hstack((X_train_scaled, x_train_categorical))\n",
    "X_test_scaled = np.hstack((X_test_scaled, x_test_categorical))\n"
   ]
  },
  {
   "cell_type": "code",
   "execution_count": 104,
   "id": "ecdbc358",
   "metadata": {},
   "outputs": [
    {
     "data": {
      "text/plain": [
       "array([[ 0.67189513,  0.47107108,  0.47543449, ...,  0.        ,\n",
       "         0.        ,  1.        ],\n",
       "       [ 0.54597132,  0.31905249,  0.24018173, ...,  0.        ,\n",
       "         0.        ,  1.        ],\n",
       "       [ 0.29412372,  0.36972535,  1.29881914, ...,  1.        ,\n",
       "         0.        ,  0.        ],\n",
       "       ...,\n",
       "       [ 0.16819992,  0.21770676,  0.24018173, ...,  0.        ,\n",
       "         1.        ,  0.        ],\n",
       "       [-0.50339368, -0.5423862 , -0.46557654, ...,  0.        ,\n",
       "         1.        ,  0.        ],\n",
       "       [-1.34288568, -1.35315201, -1.2889612 , ...,  0.        ,\n",
       "         1.        ,  0.        ]])"
      ]
     },
     "execution_count": 104,
     "metadata": {},
     "output_type": "execute_result"
    }
   ],
   "source": [
    "X_test_scaled"
   ]
  },
  {
   "cell_type": "code",
   "execution_count": 79,
   "id": "b37fe0e8",
   "metadata": {},
   "outputs": [
    {
     "data": {
      "text/plain": [
       "(torch.Size([3341, 10]),\n",
       " torch.Size([836, 10]),\n",
       " torch.Size([3341, 1]),\n",
       " torch.Size([836, 1]))"
      ]
     },
     "execution_count": 79,
     "metadata": {},
     "output_type": "execute_result"
    }
   ],
   "source": [
    "#converting into the pytorch tensors\n",
    "X_train_tensor = torch.tensor(X_train_scaled, dtype=torch.float32)\n",
    "X_test_tensor = torch.tensor(X_test_scaled, dtype=torch.float32)\n",
    "y_train_tensor = torch.tensor(y_train.values, dtype=torch.float32).unsqueeze(1)\n",
    "y_test_tensor = torch.tensor(y_test.values, dtype=torch.float32).unsqueeze(1)\n",
    "X_train_tensor.shape, X_test_tensor.shape, y_train_tensor.shape, y_test_tensor.shape"
   ]
  },
  {
   "cell_type": "code",
   "execution_count": 83,
   "id": "e637183d",
   "metadata": {},
   "outputs": [],
   "source": [
    "import torch\n",
    "import torch.nn as nn\n",
    "import torch.optim as optim\n",
    "from torch.utils.data import TensorDataset, DataLoader\n"
   ]
  },
  {
   "cell_type": "code",
   "execution_count": 84,
   "id": "e121c207",
   "metadata": {},
   "outputs": [],
   "source": [
    "train_dataset = TensorDataset(X_train_tensor, y_train_tensor)\n",
    "test_dataset = TensorDataset(X_test_tensor, y_test_tensor)\n",
    "\n",
    "train_loader = DataLoader(train_dataset, batch_size=64, shuffle=True)\n",
    "test_loader = DataLoader(test_dataset, batch_size=64)\n"
   ]
  },
  {
   "cell_type": "code",
   "execution_count": 85,
   "id": "7c9d0305",
   "metadata": {},
   "outputs": [],
   "source": [
    "class AbaloneNN(nn.Module):\n",
    "    def __init__(self):\n",
    "        super(AbaloneNN, self).__init__()\n",
    "        self.net = nn.Sequential(\n",
    "            nn.Linear(10, 64),   # Input layer -> hidden layer 1\n",
    "            nn.ReLU(),\n",
    "            nn.Linear(64, 32),   # hidden layer 1 -> hidden layer 2\n",
    "            nn.ReLU(),\n",
    "            nn.Linear(32, 1)     # output layer (single regression value)\n",
    "        )\n",
    "    \n",
    "    def forward(self, x):\n",
    "        return self.net(x)\n"
   ]
  },
  {
   "cell_type": "code",
   "execution_count": 90,
   "id": "04f41ea5",
   "metadata": {},
   "outputs": [
    {
     "name": "stdout",
     "output_type": "stream",
     "text": [
      "Model visualization saved as 'abalone_model.png'\n"
     ]
    }
   ],
   "source": [
    "try:\n",
    "    from torchviz import make_dot\n",
    "    from torch.autograd import Variable\n",
    "\n",
    "    # Create sample input\n",
    "    x = Variable(torch.randn(1, 10))\n",
    "    model = AbaloneNN()\n",
    "\n",
    "    # Generate output\n",
    "    y = model(x)\n",
    "\n",
    "    # Create and save the visualization\n",
    "    dot = make_dot(y, params=dict(list(model.named_parameters())))\n",
    "    \n",
    "    # Try to render, but handle the case where Graphviz is not installed\n",
    "    try:\n",
    "        dot.render(\"abalone_model\", format=\"png\")\n",
    "        print(\"Model visualization saved as 'abalone_model.png'\")\n",
    "    except:\n",
    "        print(\"Could not save visualization. Please install Graphviz first:\")\n",
    "        print(\"Ubuntu/Debian: sudo apt-get install graphviz\")\n",
    "        print(\"MacOS: brew install graphviz\")\n",
    "        print(\"Windows: Download installer from https://graphviz.org/download/\")\n",
    "except ImportError:\n",
    "    print(\"torchviz not installed. Install with: pip install torchviz\")"
   ]
  },
  {
   "cell_type": "code",
   "execution_count": 99,
   "id": "3512419a",
   "metadata": {},
   "outputs": [],
   "source": [
    "model = AbaloneNN()\n",
    "\n",
    "criterion = nn.MSELoss()\n",
    "optimizer = optim.Adam(model.parameters(), lr=0.0001, weight_decay=1e-5)\n"
   ]
  },
  {
   "cell_type": "markdown",
   "id": "c8cdd598",
   "metadata": {},
   "source": [
    "Training Loop"
   ]
  },
  {
   "cell_type": "code",
   "execution_count": 100,
   "id": "55922f23",
   "metadata": {},
   "outputs": [
    {
     "name": "stdout",
     "output_type": "stream",
     "text": [
      "Epoch [1/100], Train Loss: 108.4391, Validation Loss: 106.4517\n",
      "Epoch [2/100], Train Loss: 105.4254, Validation Loss: 103.2934\n",
      "Epoch [3/100], Train Loss: 101.8125, Validation Loss: 99.1566\n",
      "Epoch [4/100], Train Loss: 96.9219, Validation Loss: 93.7116\n",
      "Epoch [5/100], Train Loss: 90.8297, Validation Loss: 87.1242\n",
      "Epoch [6/100], Train Loss: 83.3423, Validation Loss: 79.0560\n",
      "Epoch [7/100], Train Loss: 74.6139, Validation Loss: 70.1486\n",
      "Epoch [8/100], Train Loss: 65.3523, Validation Loss: 60.9970\n",
      "Epoch [9/100], Train Loss: 56.1510, Validation Loss: 52.2556\n",
      "Epoch [10/100], Train Loss: 47.6747, Validation Loss: 44.5294\n",
      "Epoch [11/100], Train Loss: 40.5735, Validation Loss: 38.3516\n",
      "Epoch [12/100], Train Loss: 35.1261, Validation Loss: 33.6796\n",
      "Epoch [13/100], Train Loss: 31.2029, Validation Loss: 30.2961\n",
      "Epoch [14/100], Train Loss: 28.4429, Validation Loss: 27.8358\n",
      "Epoch [15/100], Train Loss: 26.4114, Validation Loss: 25.8796\n",
      "Epoch [16/100], Train Loss: 24.7848, Validation Loss: 24.2395\n",
      "Epoch [17/100], Train Loss: 23.3358, Validation Loss: 22.6955\n",
      "Epoch [18/100], Train Loss: 21.9757, Validation Loss: 21.2462\n",
      "Epoch [19/100], Train Loss: 20.6437, Validation Loss: 19.8412\n",
      "Epoch [20/100], Train Loss: 19.3645, Validation Loss: 18.4655\n",
      "Epoch [21/100], Train Loss: 18.0819, Validation Loss: 17.1513\n",
      "Epoch [22/100], Train Loss: 16.8582, Validation Loss: 15.8908\n",
      "Epoch [23/100], Train Loss: 15.6791, Validation Loss: 14.6926\n",
      "Epoch [24/100], Train Loss: 14.5495, Validation Loss: 13.5292\n",
      "Epoch [25/100], Train Loss: 13.4762, Validation Loss: 12.4357\n",
      "Epoch [26/100], Train Loss: 12.4806, Validation Loss: 11.4534\n",
      "Epoch [27/100], Train Loss: 11.5646, Validation Loss: 10.5358\n",
      "Epoch [28/100], Train Loss: 10.7201, Validation Loss: 9.7090\n",
      "Epoch [29/100], Train Loss: 9.9705, Validation Loss: 8.9782\n",
      "Epoch [30/100], Train Loss: 9.3145, Validation Loss: 8.3491\n",
      "Epoch [31/100], Train Loss: 8.7482, Validation Loss: 7.8317\n",
      "Epoch [32/100], Train Loss: 8.2559, Validation Loss: 7.3777\n",
      "Epoch [33/100], Train Loss: 7.8390, Validation Loss: 7.0017\n",
      "Epoch [34/100], Train Loss: 7.4897, Validation Loss: 6.6947\n",
      "Epoch [35/100], Train Loss: 7.1854, Validation Loss: 6.4290\n",
      "Epoch [36/100], Train Loss: 6.9434, Validation Loss: 6.2234\n",
      "Epoch [37/100], Train Loss: 6.7452, Validation Loss: 6.0573\n",
      "Epoch [38/100], Train Loss: 6.5792, Validation Loss: 5.9249\n",
      "Epoch [39/100], Train Loss: 6.4440, Validation Loss: 5.8147\n",
      "Epoch [40/100], Train Loss: 6.3245, Validation Loss: 5.7308\n",
      "Epoch [41/100], Train Loss: 6.2259, Validation Loss: 5.6595\n",
      "Epoch [42/100], Train Loss: 6.1486, Validation Loss: 5.6027\n",
      "Epoch [43/100], Train Loss: 6.0733, Validation Loss: 5.5534\n",
      "Epoch [44/100], Train Loss: 6.0178, Validation Loss: 5.5131\n",
      "Epoch [45/100], Train Loss: 5.9569, Validation Loss: 5.4860\n",
      "Epoch [46/100], Train Loss: 5.9093, Validation Loss: 5.4565\n",
      "Epoch [47/100], Train Loss: 5.8618, Validation Loss: 5.4203\n",
      "Epoch [48/100], Train Loss: 5.8149, Validation Loss: 5.3925\n",
      "Epoch [49/100], Train Loss: 5.7731, Validation Loss: 5.3703\n",
      "Epoch [50/100], Train Loss: 5.7348, Validation Loss: 5.3410\n",
      "Epoch [51/100], Train Loss: 5.6989, Validation Loss: 5.3258\n",
      "Epoch [52/100], Train Loss: 5.6623, Validation Loss: 5.2999\n",
      "Epoch [53/100], Train Loss: 5.6223, Validation Loss: 5.2785\n",
      "Epoch [54/100], Train Loss: 5.5899, Validation Loss: 5.2571\n",
      "Epoch [55/100], Train Loss: 5.5581, Validation Loss: 5.2398\n",
      "Epoch [56/100], Train Loss: 5.5269, Validation Loss: 5.2201\n",
      "Epoch [57/100], Train Loss: 5.4950, Validation Loss: 5.2041\n",
      "Epoch [58/100], Train Loss: 5.4658, Validation Loss: 5.1882\n",
      "Epoch [59/100], Train Loss: 5.4337, Validation Loss: 5.1697\n",
      "Epoch [60/100], Train Loss: 5.4073, Validation Loss: 5.1528\n",
      "Epoch [61/100], Train Loss: 5.3806, Validation Loss: 5.1368\n",
      "Epoch [62/100], Train Loss: 5.3536, Validation Loss: 5.1271\n",
      "Epoch [63/100], Train Loss: 5.3264, Validation Loss: 5.1144\n",
      "Epoch [64/100], Train Loss: 5.3031, Validation Loss: 5.0969\n",
      "Epoch [65/100], Train Loss: 5.2761, Validation Loss: 5.0834\n",
      "Epoch [66/100], Train Loss: 5.2551, Validation Loss: 5.0725\n",
      "Epoch [67/100], Train Loss: 5.2318, Validation Loss: 5.0574\n",
      "Epoch [68/100], Train Loss: 5.2111, Validation Loss: 5.0478\n",
      "Epoch [69/100], Train Loss: 5.1918, Validation Loss: 5.0375\n",
      "Epoch [70/100], Train Loss: 5.1698, Validation Loss: 5.0298\n",
      "Epoch [71/100], Train Loss: 5.1523, Validation Loss: 5.0230\n",
      "Epoch [72/100], Train Loss: 5.1315, Validation Loss: 5.0131\n",
      "Epoch [73/100], Train Loss: 5.1153, Validation Loss: 5.0021\n",
      "Epoch [74/100], Train Loss: 5.0985, Validation Loss: 4.9952\n",
      "Epoch [75/100], Train Loss: 5.0819, Validation Loss: 4.9865\n",
      "Epoch [76/100], Train Loss: 5.0646, Validation Loss: 4.9768\n",
      "Epoch [77/100], Train Loss: 5.0484, Validation Loss: 4.9709\n",
      "Epoch [78/100], Train Loss: 5.0338, Validation Loss: 4.9619\n",
      "Epoch [79/100], Train Loss: 5.0202, Validation Loss: 4.9553\n",
      "Epoch [80/100], Train Loss: 5.0042, Validation Loss: 4.9473\n",
      "Epoch [81/100], Train Loss: 4.9893, Validation Loss: 4.9425\n",
      "Epoch [82/100], Train Loss: 4.9755, Validation Loss: 4.9369\n",
      "Epoch [83/100], Train Loss: 4.9650, Validation Loss: 4.9285\n",
      "Epoch [84/100], Train Loss: 4.9525, Validation Loss: 4.9260\n",
      "Epoch [85/100], Train Loss: 4.9412, Validation Loss: 4.9227\n",
      "Epoch [86/100], Train Loss: 4.9370, Validation Loss: 4.9145\n",
      "Epoch [87/100], Train Loss: 4.9156, Validation Loss: 4.9095\n",
      "Epoch [88/100], Train Loss: 4.9066, Validation Loss: 4.9001\n",
      "Epoch [89/100], Train Loss: 4.8969, Validation Loss: 4.8985\n",
      "Epoch [90/100], Train Loss: 4.8840, Validation Loss: 4.8891\n",
      "Epoch [91/100], Train Loss: 4.8785, Validation Loss: 4.8933\n",
      "Epoch [92/100], Train Loss: 4.8652, Validation Loss: 4.8851\n",
      "Epoch [93/100], Train Loss: 4.8547, Validation Loss: 4.8759\n",
      "Epoch [94/100], Train Loss: 4.8436, Validation Loss: 4.8803\n",
      "Epoch [95/100], Train Loss: 4.8384, Validation Loss: 4.8760\n",
      "Epoch [96/100], Train Loss: 4.8288, Validation Loss: 4.8695\n",
      "Epoch [97/100], Train Loss: 4.8187, Validation Loss: 4.8588\n",
      "Epoch [98/100], Train Loss: 4.8102, Validation Loss: 4.8595\n",
      "Epoch [99/100], Train Loss: 4.8021, Validation Loss: 4.8536\n",
      "Epoch [100/100], Train Loss: 4.7949, Validation Loss: 4.8533\n"
     ]
    }
   ],
   "source": [
    "epochs = 100\n",
    "train_losses = []\n",
    "val_losses = []\n",
    "\n",
    "for epoch in range(epochs):\n",
    "    model.train()\n",
    "    running_loss = 0.0\n",
    "    for inputs, targets in train_loader:\n",
    "        optimizer.zero_grad()\n",
    "        outputs = model(inputs)\n",
    "        loss = criterion(outputs, targets)\n",
    "        loss.backward()\n",
    "        optimizer.step()\n",
    "        \n",
    "        running_loss += loss.item() * inputs.size(0)\n",
    "    \n",
    "    epoch_train_loss = running_loss / len(train_loader.dataset)\n",
    "    train_losses.append(epoch_train_loss)\n",
    "    \n",
    "    # Validation phase using test_loader\n",
    "    model.eval()\n",
    "    val_running_loss = 0.0\n",
    "    with torch.no_grad():\n",
    "        for val_inputs, val_targets in test_loader:\n",
    "            val_outputs = model(val_inputs)\n",
    "            val_loss = criterion(val_outputs, val_targets)\n",
    "            val_running_loss += val_loss.item() * val_inputs.size(0)\n",
    "    epoch_val_loss = val_running_loss / len(test_loader.dataset)\n",
    "    val_losses.append(epoch_val_loss)\n",
    "    \n",
    "    print(f\"Epoch [{epoch+1}/{epochs}], Train Loss: {epoch_train_loss:.4f}, Validation Loss: {epoch_val_loss:.4f}\")\n"
   ]
  },
  {
   "cell_type": "code",
   "execution_count": 101,
   "id": "0448b33d",
   "metadata": {},
   "outputs": [
    {
     "data": {
      "image/png": "[encoded data removed]",
      "text/plain": [
       "<Figure size 800x500 with 1 Axes>"
      ]
     },
     "metadata": {},
     "output_type": "display_data"
    }
   ],
   "source": [
    "import matplotlib.pyplot as plt\n",
    "\n",
    "plt.figure(figsize=(8,5))\n",
    "plt.plot(train_losses, label='Train Loss')\n",
    "plt.plot(val_losses, label='Validation Loss')\n",
    "plt.xlabel('Epoch')\n",
    "plt.ylabel('Loss')\n",
    "plt.title('Training and Validation Loss over Epochs')\n",
    "plt.legend()\n",
    "plt.grid(True)\n",
    "plt.show()\n"
   ]
  },
  {
   "cell_type": "code",
   "execution_count": 102,
   "id": "a1543c4e",
   "metadata": {},
   "outputs": [
    {
     "name": "stdout",
     "output_type": "stream",
     "text": [
      "Actual: 9.00 \t Predicted: 11.59\n",
      "Actual: 8.00 \t Predicted: 10.41\n",
      "Actual: 16.00 \t Predicted: 14.08\n",
      "Actual: 9.00 \t Predicted: 11.58\n",
      "Actual: 14.00 \t Predicted: 11.61\n",
      "Actual: 11.00 \t Predicted: 10.74\n",
      "Actual: 7.00 \t Predicted: 9.95\n",
      "Actual: 6.00 \t Predicted: 8.84\n",
      "Actual: 7.00 \t Predicted: 6.91\n",
      "Actual: 10.00 \t Predicted: 10.63\n"
     ]
    }
   ],
   "source": [
    "model.eval()\n",
    "actuals = []\n",
    "predictions = []\n",
    "\n",
    "with torch.no_grad():\n",
    "    for inputs, targets in test_loader:\n",
    "        outputs = model(inputs)\n",
    "        actuals.append(targets)\n",
    "        predictions.append(outputs)\n",
    "\n",
    "# Concatenate all batches\n",
    "actuals = torch.cat(actuals).squeeze().numpy()\n",
    "predictions = torch.cat(predictions).squeeze().numpy()\n",
    "\n",
    "# Display side by side (first 10 samples)\n",
    "for i in range(10):\n",
    "    print(f\"Actual: {actuals[i]:.2f} \\t Predicted: {predictions[i]:.2f}\")\n"
   ]
  },
  {
   "cell_type": "code",
   "execution_count": 105,
   "id": "604ab1ba",
   "metadata": {},
   "outputs": [
    {
     "name": "stdout",
     "output_type": "stream",
     "text": [
      "RMSE: 2.20\n"
     ]
    }
   ],
   "source": [
    "#RMSE\n",
    "from sklearn.metrics import mean_squared_error\n",
    "rmse = np.sqrt(mean_squared_error(actuals, predictions))\n",
    "print(f\"RMSE: {rmse:.2f}\")"
   ]
  }
 ],
 "metadata": {
  "kernelspec": {
   "display_name": "env",
   "language": "python",
   "name": "python3"
  },
  "language_info": {
   "codemirror_mode": {
    "name": "ipython",
    "version": 3
   },
   "file_extension": ".py",
   "mimetype": "text/x-python",
   "name": "python",
   "nbconvert_exporter": "python",
   "pygments_lexer": "ipython3",
   "version": "3.12.3"
  }
 },
 "nbformat": 4,
 "nbformat_minor": 5
}
