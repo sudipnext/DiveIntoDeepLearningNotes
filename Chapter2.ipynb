{
 "cells": [
  {
   "cell_type": "code",
   "execution_count": 3,
   "id": "9452aae9",
   "metadata": {},
   "outputs": [],
   "source": [
    "import torch\n",
    "import numpy as np"
   ]
  },
  {
   "cell_type": "markdown",
   "id": "4bb608d5",
   "metadata": {},
   "source": [
    "### Tensors"
   ]
  },
  {
   "cell_type": "markdown",
   "id": "d1cf9262",
   "metadata": {},
   "source": [
    "Creating Numpy Array"
   ]
  },
  {
   "cell_type": "code",
   "execution_count": 4,
   "id": "894b6995",
   "metadata": {},
   "outputs": [
    {
     "data": {
      "text/plain": [
       "(array([1, 2, 3, 4, 5]), numpy.ndarray)"
      ]
     },
     "execution_count": 4,
     "metadata": {},
     "output_type": "execute_result"
    }
   ],
   "source": [
    "## Making Tensors from the numpy \n",
    "list_number = [1, 2, 3, 4, 5]\n",
    "numpy_array = np.array(list_number)\n",
    "numpy_array, type(numpy_array)"
   ]
  },
  {
   "cell_type": "code",
   "execution_count": 5,
   "id": "191f9592",
   "metadata": {},
   "outputs": [
    {
     "data": {
      "text/plain": [
       "(tensor([1, 2, 3, 4, 5]), torch.Tensor)"
      ]
     },
     "execution_count": 5,
     "metadata": {},
     "output_type": "execute_result"
    }
   ],
   "source": [
    "x = torch.from_numpy(numpy_array)\n",
    "x, type(x)"
   ]
  },
  {
   "cell_type": "markdown",
   "id": "e7e078b2",
   "metadata": {},
   "source": [
    "Using `arange` to create a numpy array:"
   ]
  },
  {
   "cell_type": "code",
   "execution_count": 6,
   "id": "b9bded6e",
   "metadata": {},
   "outputs": [
    {
     "data": {
      "text/plain": [
       "tensor([0, 1, 2, 3, 4, 5, 6, 7, 8, 9])"
      ]
     },
     "execution_count": 6,
     "metadata": {},
     "output_type": "execute_result"
    }
   ],
   "source": [
    "x = torch.arange(0, 10, 1)\n",
    "x"
   ]
  },
  {
   "cell_type": "markdown",
   "id": "9c0c91a4",
   "metadata": {},
   "source": [
    "`reshape`"
   ]
  },
  {
   "cell_type": "code",
   "execution_count": 7,
   "id": "b598d7d7",
   "metadata": {},
   "outputs": [
    {
     "data": {
      "text/plain": [
       "(tensor([[0, 1, 2, 3, 4],\n",
       "         [5, 6, 7, 8, 9]]),\n",
       " torch.Tensor)"
      ]
     },
     "execution_count": 7,
     "metadata": {},
     "output_type": "execute_result"
    }
   ],
   "source": [
    "y = x.reshape(2, 5)\n",
    "y, type(y)"
   ]
  },
  {
   "cell_type": "markdown",
   "id": "3855cc20",
   "metadata": {},
   "source": [
    "`reshape` with `-1` to infer dimension:"
   ]
  },
  {
   "cell_type": "code",
   "execution_count": 12,
   "id": "f5c94bf4",
   "metadata": {},
   "outputs": [
    {
     "data": {
      "text/plain": [
       "(tensor([[0, 1, 2, 3, 4],\n",
       "         [5, 6, 7, 8, 9]]),\n",
       " torch.Tensor)"
      ]
     },
     "execution_count": 12,
     "metadata": {},
     "output_type": "execute_result"
    }
   ],
   "source": [
    "z = x.reshape(-1, 5)\n",
    "z, type(z)"
   ]
  },
  {
   "cell_type": "code",
   "execution_count": 11,
   "id": "14998c03",
   "metadata": {},
   "outputs": [
    {
     "data": {
      "text/plain": [
       "(tensor([[0, 1, 2, 3, 4],\n",
       "         [5, 6, 7, 8, 9]]),\n",
       " torch.Tensor)"
      ]
     },
     "execution_count": 11,
     "metadata": {},
     "output_type": "execute_result"
    }
   ],
   "source": [
    "h = x.reshape(2, -1)\n",
    "h, type(h)"
   ]
  },
  {
   "cell_type": "markdown",
   "id": "cfd04c89",
   "metadata": {},
   "source": [
    "Initializing a tensor with zeros or ones"
   ]
  },
  {
   "cell_type": "code",
   "execution_count": 15,
   "id": "baab4ce8",
   "metadata": {},
   "outputs": [
    {
     "data": {
      "text/plain": [
       "(tensor([[0., 0., 0.],\n",
       "         [0., 0., 0.]]),\n",
       " torch.Tensor)"
      ]
     },
     "execution_count": 15,
     "metadata": {},
     "output_type": "execute_result"
    }
   ],
   "source": [
    "x= torch.zeros((2, 3))\n",
    "x, type(x)"
   ]
  },
  {
   "cell_type": "code",
   "execution_count": 16,
   "id": "b35e08d2",
   "metadata": {},
   "outputs": [
    {
     "data": {
      "text/plain": [
       "(tensor([[1., 1., 1.],\n",
       "         [1., 1., 1.]]),\n",
       " torch.Tensor)"
      ]
     },
     "execution_count": 16,
     "metadata": {},
     "output_type": "execute_result"
    }
   ],
   "source": [
    "y=torch.ones((2, 3))\n",
    "y, type(y)"
   ]
  },
  {
   "cell_type": "markdown",
   "id": "009370d0",
   "metadata": {},
   "source": [
    "Generating a random tensor"
   ]
  },
  {
   "cell_type": "code",
   "execution_count": 29,
   "id": "487851b3",
   "metadata": {},
   "outputs": [
    {
     "data": {
      "text/plain": [
       "(tensor([[0.4963, 0.7682, 0.0885],\n",
       "         [0.1320, 0.3074, 0.6341]]),\n",
       " torch.Tensor)"
      ]
     },
     "execution_count": 29,
     "metadata": {},
     "output_type": "execute_result"
    }
   ],
   "source": [
    "torch.manual_seed(0)  # For reproducibility\n",
    "x = torch.rand((2, 3))\n",
    "x, type(x)"
   ]
  },
  {
   "cell_type": "markdown",
   "id": "1e01d718",
   "metadata": {},
   "source": [
    "Creating tensors with specific values:"
   ]
  },
  {
   "cell_type": "code",
   "execution_count": 30,
   "id": "c554da76",
   "metadata": {},
   "outputs": [
    {
     "data": {
      "text/plain": [
       "tensor([[1, 2, 3],\n",
       "        [4, 5, 6]])"
      ]
     },
     "execution_count": 30,
     "metadata": {},
     "output_type": "execute_result"
    }
   ],
   "source": [
    "torch.tensor([[1, 2, 3], [4, 5, 6]])"
   ]
  },
  {
   "cell_type": "markdown",
   "id": "e716ee53",
   "metadata": {},
   "source": [
    "Indexing and slicing tensors"
   ]
  },
  {
   "cell_type": "code",
   "execution_count": 40,
   "id": "b96f92cf",
   "metadata": {},
   "outputs": [
    {
     "data": {
      "text/plain": [
       "(tensor([0, 1, 2, 3, 4, 5, 6, 7, 8]), torch.Tensor)"
      ]
     },
     "execution_count": 40,
     "metadata": {},
     "output_type": "execute_result"
    }
   ],
   "source": [
    "x = torch.arange(0, 9, 1)\n",
    "x, type(x)"
   ]
  },
  {
   "cell_type": "code",
   "execution_count": 43,
   "id": "cc3e23fe",
   "metadata": {},
   "outputs": [],
   "source": [
    "x = x.reshape(3, -1)"
   ]
  },
  {
   "cell_type": "code",
   "execution_count": 44,
   "id": "ae63fb81",
   "metadata": {},
   "outputs": [
    {
     "data": {
      "text/plain": [
       "tensor([[0, 1, 2],\n",
       "        [3, 4, 5],\n",
       "        [6, 7, 8]])"
      ]
     },
     "execution_count": 44,
     "metadata": {},
     "output_type": "execute_result"
    }
   ],
   "source": [
    "x"
   ]
  },
  {
   "cell_type": "markdown",
   "id": "b7504bd4",
   "metadata": {},
   "source": [
    "Indexing "
   ]
  },
  {
   "cell_type": "code",
   "execution_count": 45,
   "id": "2182c885",
   "metadata": {},
   "outputs": [
    {
     "data": {
      "text/plain": [
       "tensor([6, 7, 8])"
      ]
     },
     "execution_count": 45,
     "metadata": {},
     "output_type": "execute_result"
    }
   ],
   "source": [
    "x[-1]"
   ]
  },
  {
   "cell_type": "code",
   "execution_count": 46,
   "id": "962d40a9",
   "metadata": {},
   "outputs": [
    {
     "data": {
      "text/plain": [
       "tensor([[0, 1, 2],\n",
       "        [3, 4, 5]])"
      ]
     },
     "execution_count": 46,
     "metadata": {},
     "output_type": "execute_result"
    }
   ],
   "source": [
    "x[:2]"
   ]
  },
  {
   "cell_type": "markdown",
   "id": "09796bcd",
   "metadata": {},
   "source": [
    "Writing values to specific indices"
   ]
  },
  {
   "cell_type": "code",
   "execution_count": 48,
   "id": "f1dea708",
   "metadata": {},
   "outputs": [],
   "source": [
    "x[1, 1] = 10"
   ]
  },
  {
   "cell_type": "code",
   "execution_count": 49,
   "id": "482d0740",
   "metadata": {},
   "outputs": [
    {
     "data": {
      "text/plain": [
       "tensor([[ 0,  1,  2],\n",
       "        [ 3, 10,  5],\n",
       "        [ 6,  7,  8]])"
      ]
     },
     "execution_count": 49,
     "metadata": {},
     "output_type": "execute_result"
    }
   ],
   "source": [
    "x"
   ]
  },
  {
   "cell_type": "code",
   "execution_count": 50,
   "id": "be035849",
   "metadata": {},
   "outputs": [
    {
     "data": {
      "text/plain": [
       "tensor([[ 0,  1,  2],\n",
       "        [ 3, 20,  5],\n",
       "        [ 6,  7,  8]])"
      ]
     },
     "execution_count": 50,
     "metadata": {},
     "output_type": "execute_result"
    }
   ],
   "source": [
    "x[1][1] = 20\n",
    "x"
   ]
  },
  {
   "cell_type": "markdown",
   "id": "8b946c6a",
   "metadata": {},
   "source": [
    "Assigning a range of values "
   ]
  },
  {
   "cell_type": "code",
   "execution_count": 51,
   "id": "1cbf9748",
   "metadata": {},
   "outputs": [
    {
     "data": {
      "text/plain": [
       "tensor([[ 1,  1,  2],\n",
       "        [ 1, 20,  5],\n",
       "        [ 1,  7,  8]])"
      ]
     },
     "execution_count": 51,
     "metadata": {},
     "output_type": "execute_result"
    }
   ],
   "source": [
    "#assigning the first column as all ones\n",
    "x[:, 0] = 1\n",
    "x"
   ]
  },
  {
   "cell_type": "code",
   "execution_count": 52,
   "id": "2917990d",
   "metadata": {},
   "outputs": [
    {
     "data": {
      "text/plain": [
       "tensor([[ 1,  1,  0],\n",
       "        [ 1, 20,  0],\n",
       "        [ 1,  7,  8]])"
      ]
     },
     "execution_count": 52,
     "metadata": {},
     "output_type": "execute_result"
    }
   ],
   "source": [
    "#assigning the last column first 2 rows as all zeros\n",
    "x[0:2, -1] = 0\n",
    "x"
   ]
  },
  {
   "cell_type": "markdown",
   "id": "8ee6b5ab",
   "metadata": {},
   "source": [
    "Operations on Tensors:\n",
    "In general, operations on tensors are applied element-wise. For example, if `x` and `y` are tensors, then:"
   ]
  },
  {
   "cell_type": "code",
   "execution_count": 53,
   "id": "37e847d3",
   "metadata": {},
   "outputs": [
    {
     "data": {
      "text/plain": [
       "(tensor([[0.4901, 0.8964, 0.4556, 0.6323, 0.3489]]),\n",
       " tensor([[0.4017, 0.0223, 0.1689, 0.2939, 0.5185]]))"
      ]
     },
     "execution_count": 53,
     "metadata": {},
     "output_type": "execute_result"
    }
   ],
   "source": [
    "x = torch.rand(1, 5)\n",
    "y = torch.rand(1, 5)\n",
    "x,y"
   ]
  },
  {
   "cell_type": "markdown",
   "id": "46ebcd26",
   "metadata": {},
   "source": [
    "Operations"
   ]
  },
  {
   "cell_type": "code",
   "execution_count": 54,
   "id": "b6cd7bc0",
   "metadata": {},
   "outputs": [
    {
     "data": {
      "text/plain": [
       "(tensor([[0.1969, 0.0200, 0.0769, 0.1858, 0.1809]]),\n",
       " tensor([[ 1.2200, 40.1529,  2.6983,  2.1515,  0.6729]]),\n",
       " tensor([[0.8918, 0.9188, 0.6245, 0.9262, 0.8674]]),\n",
       " tensor([[ 0.0884,  0.8741,  0.2868,  0.3384, -0.1696]]))"
      ]
     },
     "execution_count": 54,
     "metadata": {},
     "output_type": "execute_result"
    }
   ],
   "source": [
    "x*y, x/y, x+y, x-y"
   ]
  },
  {
   "cell_type": "markdown",
   "id": "f01795c6",
   "metadata": {},
   "source": [
    "Performing Linear Algebra Operations"
   ]
  },
  {
   "cell_type": "code",
   "execution_count": 55,
   "id": "57d0265d",
   "metadata": {},
   "outputs": [
    {
     "data": {
      "text/plain": [
       "(tensor([[0, 1, 2, 3, 4],\n",
       "         [5, 6, 7, 8, 9]]),\n",
       " tensor([[10, 11, 12, 13, 14],\n",
       "         [15, 16, 17, 18, 19]]))"
      ]
     },
     "execution_count": 55,
     "metadata": {},
     "output_type": "execute_result"
    }
   ],
   "source": [
    "X = torch.arange(0, 10, 1).reshape(2, 5)\n",
    "Y = torch.arange(10, 20, 1).reshape(2, 5)\n",
    "X, Y"
   ]
  },
  {
   "cell_type": "markdown",
   "id": "5f9ba5d7",
   "metadata": {},
   "source": [
    "`cat` operation"
   ]
  },
  {
   "cell_type": "code",
   "execution_count": 58,
   "id": "53de35fb",
   "metadata": {},
   "outputs": [
    {
     "data": {
      "text/plain": [
       "(tensor([[ 0,  1,  2,  3,  4],\n",
       "         [ 5,  6,  7,  8,  9],\n",
       "         [10, 11, 12, 13, 14],\n",
       "         [15, 16, 17, 18, 19]]),\n",
       " tensor([[ 0,  1,  2,  3,  4, 10, 11, 12, 13, 14],\n",
       "         [ 5,  6,  7,  8,  9, 15, 16, 17, 18, 19]]))"
      ]
     },
     "execution_count": 58,
     "metadata": {},
     "output_type": "execute_result"
    }
   ],
   "source": [
    "Z_dim0 = torch.cat((X, Y), dim=0)\n",
    "Z_dim1 = torch.cat((X, Y), dim=1)\n",
    "Z_dim0, Z_dim1"
   ]
  },
  {
   "cell_type": "markdown",
   "id": "17368b1a",
   "metadata": {},
   "source": [
    "Using `sum` to sum across all dimensions resulting in a scalar"
   ]
  },
  {
   "cell_type": "code",
   "execution_count": 59,
   "id": "ec3faa36",
   "metadata": {},
   "outputs": [
    {
     "data": {
      "text/plain": [
       "(tensor(190), tensor(190))"
      ]
     },
     "execution_count": 59,
     "metadata": {},
     "output_type": "execute_result"
    }
   ],
   "source": [
    "torch.sum(Z_dim0), torch.sum(Z_dim1)"
   ]
  },
  {
   "cell_type": "markdown",
   "id": "ad5e1522",
   "metadata": {},
   "source": [
    "### Broadcasting\n",
    "\n",
    "When we do broadcasting, we can add a tensor of shape `(3, 1)` to a tensor of shape `(1, 2)`. The first tensor is broadcasted across the second dimension, and the second tensor is broadcasted across the first dimension."
   ]
  },
  {
   "cell_type": "code",
   "execution_count": 61,
   "id": "de2c14cb",
   "metadata": {},
   "outputs": [
    {
     "data": {
      "text/plain": [
       "(tensor([[0],\n",
       "         [1],\n",
       "         [2]]),\n",
       " tensor([[4, 5]]))"
      ]
     },
     "execution_count": 61,
     "metadata": {},
     "output_type": "execute_result"
    }
   ],
   "source": [
    "a = torch.tensor([0,1,2]).reshape(3, 1)\n",
    "b = torch.tensor([4,5]).reshape(1, 2)\n",
    "a, b"
   ]
  },
  {
   "cell_type": "code",
   "execution_count": 62,
   "id": "aa5163e2",
   "metadata": {},
   "outputs": [
    {
     "data": {
      "text/plain": [
       "tensor([[4, 5],\n",
       "        [5, 6],\n",
       "        [6, 7]])"
      ]
     },
     "execution_count": 62,
     "metadata": {},
     "output_type": "execute_result"
    }
   ],
   "source": [
    "a+b"
   ]
  },
  {
   "cell_type": "markdown",
   "id": "bf072b3f",
   "metadata": {},
   "source": [
    "### Saving Memory\n",
    "\n",
    "When we creatre tensors and perform some operations, i.e Y= Y+X, the new memory location is created for Y. We can't do like go around and allocate memory unnecessarily. We can use `Y+=X` to save memory. This is called in-place operation."
   ]
  },
  {
   "cell_type": "code",
   "execution_count": 71,
   "id": "5cb8e39a",
   "metadata": {},
   "outputs": [
    {
     "data": {
      "text/plain": [
       "False"
      ]
     },
     "execution_count": 71,
     "metadata": {},
     "output_type": "execute_result"
    }
   ],
   "source": [
    "before = id(Y)\n",
    "Y = Y + X\n",
    "after = id(Y)\n",
    "before == after"
   ]
  },
  {
   "cell_type": "code",
   "execution_count": 72,
   "id": "9a55b23d",
   "metadata": {},
   "outputs": [
    {
     "data": {
      "text/plain": [
       "True"
      ]
     },
     "execution_count": 72,
     "metadata": {},
     "output_type": "execute_result"
    }
   ],
   "source": [
    "before_ = id(X)\n",
    "X += Y\n",
    "after_ = id(X)\n",
    "after_ == before_"
   ]
  },
  {
   "cell_type": "markdown",
   "id": "2b9024c0",
   "metadata": {},
   "source": [
    "Conversion of other python objects"
   ]
  },
  {
   "cell_type": "code",
   "execution_count": null,
   "id": "bbc01b09",
   "metadata": {},
   "outputs": [
    {
     "data": {
      "text/plain": [
       "(tensor([3.5000]), 3.5, 3.5, 3)"
      ]
     },
     "execution_count": 74,
     "metadata": {},
     "output_type": "execute_result"
    }
   ],
   "source": [
    "a = torch.tensor([3.5])\n",
    "a, a.item(), float(a), int(a)"
   ]
  },
  {
   "cell_type": "code",
   "execution_count": 75,
   "id": "c984a039",
   "metadata": {},
   "outputs": [
    {
     "data": {
      "text/plain": [
       "tensor([[False, False, False, False, False],\n",
       "        [False, False, False, False, False]])"
      ]
     },
     "execution_count": 75,
     "metadata": {},
     "output_type": "execute_result"
    }
   ],
   "source": [
    "X <= Y"
   ]
  },
  {
   "cell_type": "code",
   "execution_count": 77,
   "id": "611cbeb0",
   "metadata": {},
   "outputs": [
    {
     "data": {
      "text/plain": [
       "(tensor([[0, 1, 2],\n",
       "         [3, 4, 5],\n",
       "         [6, 7, 8]]),\n",
       " tensor([[4],\n",
       "         [5],\n",
       "         [6]]))"
      ]
     },
     "execution_count": 77,
     "metadata": {},
     "output_type": "execute_result"
    }
   ],
   "source": [
    "a = torch.arange(0, 9, 1).reshape(3, 3)\n",
    "b = torch.tensor([4, 5, 6]).reshape(3, 1)\n",
    "a, b"
   ]
  },
  {
   "cell_type": "code",
   "execution_count": 78,
   "id": "ab0e8221",
   "metadata": {},
   "outputs": [
    {
     "data": {
      "text/plain": [
       "tensor([[ 4,  5,  6],\n",
       "        [ 8,  9, 10],\n",
       "        [12, 13, 14]])"
      ]
     },
     "execution_count": 78,
     "metadata": {},
     "output_type": "execute_result"
    }
   ],
   "source": [
    "a+b"
   ]
  },
  {
   "cell_type": "code",
   "execution_count": null,
   "id": "bf6eb8b1",
   "metadata": {},
   "outputs": [],
   "source": []
  }
 ],
 "metadata": {
  "kernelspec": {
   "display_name": "env",
   "language": "python",
   "name": "python3"
  },
  "language_info": {
   "codemirror_mode": {
    "name": "ipython",
    "version": 3
   },
   "file_extension": ".py",
   "mimetype": "text/x-python",
   "name": "python",
   "nbconvert_exporter": "python",
   "pygments_lexer": "ipython3",
   "version": "3.12.3"
  }
 },
 "nbformat": 4,
 "nbformat_minor": 5
}
